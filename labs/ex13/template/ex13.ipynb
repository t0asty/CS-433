{
 "cells": [
  {
   "cell_type": "code",
   "execution_count": 1,
   "metadata": {},
   "outputs": [
    {
     "name": "stderr",
     "output_type": "stream",
     "text": [
      "In /Library/Frameworks/Python.framework/Versions/3.7/lib/python3.7/site-packages/matplotlib/mpl-data/stylelib/_classic_test.mplstyle: \n",
      "The text.latex.preview rcparam was deprecated in Matplotlib 3.3 and will be removed two minor releases later.\n",
      "In /Library/Frameworks/Python.framework/Versions/3.7/lib/python3.7/site-packages/matplotlib/mpl-data/stylelib/_classic_test.mplstyle: \n",
      "The mathtext.fallback_to_cm rcparam was deprecated in Matplotlib 3.3 and will be removed two minor releases later.\n",
      "In /Library/Frameworks/Python.framework/Versions/3.7/lib/python3.7/site-packages/matplotlib/mpl-data/stylelib/_classic_test.mplstyle: Support for setting the 'mathtext.fallback_to_cm' rcParam is deprecated since 3.3 and will be removed two minor releases later; use 'mathtext.fallback : 'cm' instead.\n",
      "In /Library/Frameworks/Python.framework/Versions/3.7/lib/python3.7/site-packages/matplotlib/mpl-data/stylelib/_classic_test.mplstyle: \n",
      "The validate_bool_maybe_none function was deprecated in Matplotlib 3.3 and will be removed two minor releases later.\n",
      "In /Library/Frameworks/Python.framework/Versions/3.7/lib/python3.7/site-packages/matplotlib/mpl-data/stylelib/_classic_test.mplstyle: \n",
      "The savefig.jpeg_quality rcparam was deprecated in Matplotlib 3.3 and will be removed two minor releases later.\n",
      "In /Library/Frameworks/Python.framework/Versions/3.7/lib/python3.7/site-packages/matplotlib/mpl-data/stylelib/_classic_test.mplstyle: \n",
      "The keymap.all_axes rcparam was deprecated in Matplotlib 3.3 and will be removed two minor releases later.\n",
      "In /Library/Frameworks/Python.framework/Versions/3.7/lib/python3.7/site-packages/matplotlib/mpl-data/stylelib/_classic_test.mplstyle: \n",
      "The animation.avconv_path rcparam was deprecated in Matplotlib 3.3 and will be removed two minor releases later.\n",
      "In /Library/Frameworks/Python.framework/Versions/3.7/lib/python3.7/site-packages/matplotlib/mpl-data/stylelib/_classic_test.mplstyle: \n",
      "The animation.avconv_args rcparam was deprecated in Matplotlib 3.3 and will be removed two minor releases later.\n"
     ]
    }
   ],
   "source": [
    "%load_ext autoreload\n",
    "%autoreload 2\n",
    "\n",
    "import numpy as np\n",
    "import scipy.io\n",
    "import matplotlib.pyplot as plt\n",
    "from test_utils import test\n",
    "from typing import NamedTuple, List, Dict, Tuple"
   ]
  },
  {
   "cell_type": "markdown",
   "metadata": {},
   "source": [
    "# Load the data"
   ]
  },
  {
   "cell_type": "markdown",
   "metadata": {},
   "source": [
    "We will be working with the MovieLens dataset, containing 100k movie ratings.\n",
    "The goal is to predict the rating of a (movie, user) pair, given other ratings by this user and of this movie."
   ]
  },
  {
   "cell_type": "code",
   "execution_count": 2,
   "metadata": {},
   "outputs": [
    {
     "name": "stdout",
     "output_type": "stream",
     "text": [
      "Loaded 100000 ratings of 943 users for 1682 movies.\n"
     ]
    }
   ],
   "source": [
    "class Dataset(NamedTuple):\n",
    "    \"\"\"Data container with three arrays of the same length:\"\"\"\n",
    "    movies: np.ndarray\n",
    "    users: np.ndarray\n",
    "    ratings: np.ndarray\n",
    "\n",
    "def load_data() -> Dataset:\n",
    "    \"\"\"Load a sparse matrix from a matlab file and return is as a list of \"\"\"\n",
    "    data = scipy.io.loadmat('movielens100k.mat')[\"ratings\"]\n",
    "    movies, users = data.nonzero()  # indices of available ratings in the matrix\n",
    "    ratings = data[movies, users].A1\n",
    "    return Dataset(movies, users, ratings)\n",
    "\n",
    "dataset = load_data()\n",
    "\n",
    "num_users = np.max(dataset.users) + 1\n",
    "num_movies = np.max(dataset.movies) + 1\n",
    "\n",
    "print(f\"Loaded {len(dataset.ratings)} ratings of {num_users} users for {num_movies} movies.\")"
   ]
  },
  {
   "cell_type": "markdown",
   "metadata": {},
   "source": [
    "# Plot the number of ratings per movie and user\n",
    "\n",
    "It will be too tricky to make predictions for movies and users for which too few ratings are available.\n",
    "Below we will investigate the distribution of how many ratings we have for various users and movies, to evaluate if we need to exclude some users or movies."
   ]
  },
  {
   "cell_type": "code",
   "execution_count": 3,
   "metadata": {},
   "outputs": [],
   "source": [
    "def count_ratings_per_movie(dataset: Dataset) -> Dict[int, int]:\n",
    "    \"\"\"Count the number of ratings available per movie\n",
    "    \n",
    "    Inputs:\n",
    "        dataset: Dataset\n",
    "    \n",
    "    Returns:\n",
    "        counts: a dictionary form movie id (int) -> count (int)\n",
    "    \n",
    "    >>> count_ratings_per_movie(Dataset(np.array([0, 0, 1]), np.array([1, 2, 1]), np.array([1.0, 2.0, 3.0])))\n",
    "    {0: 2, 1: 1}\n",
    "    \"\"\"\n",
    "    counts = {}\n",
    "    unique, unique_counts = np.unique(dataset.movies, return_counts=True)\n",
    "    counts = dict(zip(unique, unique_counts))\n",
    "    return counts\n",
    "\n",
    "def count_ratings_per_user(dataset: Dataset) -> Dict[int, int]:\n",
    "    \"\"\"Count the number of ratings given by a user\n",
    "    \n",
    "    Inputs:\n",
    "        dataset: Dataset\n",
    "    \n",
    "    Returns:\n",
    "        counts: a dictionary form user id (int) -> count (int)\n",
    "    \n",
    "    >>> count_ratings_per_user(Dataset(np.array([0, 0, 1]), np.array([1, 2, 2]), np.array([4.0, 1.0, 2.0])))\n",
    "    {1: 1, 2: 2}\n",
    "    \"\"\"\n",
    "    counts = {}\n",
    "    unique, unique_counts = np.unique(dataset.users, return_counts=True)\n",
    "    counts = dict(zip(unique, unique_counts))\n",
    "    return counts"
   ]
  },
  {
   "cell_type": "code",
   "execution_count": 4,
   "metadata": {},
   "outputs": [
    {
     "name": "stdout",
     "output_type": "stream",
     "text": [
      "✅ Your `count_ratings_per_movie` passes some basic tests.\n",
      "✅ Your `count_ratings_per_user` passes some basic tests.\n"
     ]
    }
   ],
   "source": [
    "test(count_ratings_per_movie)\n",
    "test(count_ratings_per_user)"
   ]
  },
  {
   "cell_type": "markdown",
   "metadata": {},
   "source": [
    "Let's plot the results:"
   ]
  },
  {
   "cell_type": "code",
   "execution_count": 5,
   "metadata": {
    "scrolled": true
   },
   "outputs": [
    {
     "data": {
      "image/png": "[encoded data removed]",
      "text/plain": [
       "<Figure size 720x180 with 2 Axes>"
      ]
     },
     "metadata": {
      "needs_background": "light"
     },
     "output_type": "display_data"
    }
   ],
   "source": [
    "num_ratings_per_movie = count_ratings_per_movie(dataset)\n",
    "num_ratings_per_user = count_ratings_per_user(dataset)\n",
    "\n",
    "fig, axes = plt.subplots(ncols=2, figsize=(10, 2.5))\n",
    "for ax, ratings, unit in zip(axes, (num_ratings_per_movie, num_ratings_per_user), (\"movie\", \"user\")):\n",
    "    ax.hist(ratings.values())\n",
    "    ax.set_title(f\"# Ratings per {unit} (histogram)\")\n",
    "    ax.set_xlabel(\"# Ratings\")\n",
    "    ax.set_ylabel(\"# Occurences\")"
   ]
  },
  {
   "cell_type": "code",
   "execution_count": 6,
   "metadata": {},
   "outputs": [
    {
     "name": "stdout",
     "output_type": "stream",
     "text": [
      "min # of movies per user = 20, \n",
      "min # of users per movie = 1.\n"
     ]
    }
   ],
   "source": [
    "print(\"min # of movies per user = {}, \\nmin # of users per movie = {}.\".format(\n",
    "        min(num_ratings_per_user.values()), min(num_ratings_per_movie.values())))"
   ]
  },
  {
   "cell_type": "markdown",
   "metadata": {},
   "source": [
    "# Remove movies with too few ratings\n",
    "\n",
    "As is typical for real-life data, those distributions have a very long tail. There are some movies that have only one rating. Predictions for those will be very unreliable, so we want to take them out of the dataset."
   ]
  },
  {
   "cell_type": "code",
   "execution_count": 7,
   "metadata": {},
   "outputs": [],
   "source": [
    "def remove_rare_movies(dataset: Dataset, min_ratings_per_movie=10) -> Dataset:\n",
    "    \"\"\"Filter a dataset, and keep only movies with a minimum number of reviews\n",
    "    \n",
    "    Inputs:\n",
    "        dataset: Dataset\n",
    "        min_cases: int, the required minimum number\n",
    "        \n",
    "    Returns:\n",
    "        new dataset: Dataset\n",
    "    \n",
    "    >>> test_dataset = Dataset(np.array([0, 0, 1]), np.array([0, 1, 1]), np.array([1.0, 1.0, 1.0]))\n",
    "    >>> remove_rare_movies(test_dataset, 2)\n",
    "    Dataset(movies=array([0, 0]), users=array([0, 1]), ratings=array([1., 1.]))\n",
    "    \"\"\"\n",
    "    num_ratings_per_movie = count_ratings_per_movie(dataset)\n",
    "    rare_movies = [key for key, value in num_ratings_per_movie.items() if value < min_ratings_per_movie]\n",
    "    movies = np.delete(dataset.movies, np.where(np.isin(dataset.movies, rare_movies)))\n",
    "    ratings = np.delete(dataset.ratings, np.where(np.isin(dataset.movies, rare_movies)))\n",
    "    users = np.delete(dataset.users, np.where(np.isin(dataset.movies, rare_movies)))\n",
    "    pruned_dataset = Dataset(movies=movies, ratings=ratings, users=users)\n",
    "    return pruned_dataset"
   ]
  },
  {
   "cell_type": "code",
   "execution_count": 8,
   "metadata": {},
   "outputs": [
    {
     "name": "stdout",
     "output_type": "stream",
     "text": [
      "✅ Your `remove_rare_movies` passes some basic tests.\n"
     ]
    }
   ],
   "source": [
    "test(remove_rare_movies)"
   ]
  },
  {
   "cell_type": "code",
   "execution_count": 9,
   "metadata": {},
   "outputs": [
    {
     "name": "stdout",
     "output_type": "stream",
     "text": [
      "There are 97953 ratings left after pruning the dataset.\n"
     ]
    }
   ],
   "source": [
    "pruned_dataset = remove_rare_movies(dataset)\n",
    "print(f\"There are {len(pruned_dataset.ratings)} ratings left after pruning the dataset.\")"
   ]
  },
  {
   "cell_type": "markdown",
   "metadata": {},
   "source": [
    "# Split the data into a train and test set"
   ]
  },
  {
   "cell_type": "code",
   "execution_count": 10,
   "metadata": {},
   "outputs": [],
   "source": [
    "def split_dataset(dataset, p_test = 0.1, seed = 1):\n",
    "    \"\"\"\n",
    "    Split a dataset randomly into a train and a test part\n",
    "    \n",
    "    Inputs:\n",
    "        dataset: Dataset\n",
    "        p_test: float\n",
    "            propability (0 < p_test < 1) for a data point to go into the test set\n",
    "        seed: integer\n",
    "        \n",
    "    Returns:\n",
    "        train_dataset: Dataset\n",
    "        test_dataset: Dataset\n",
    "    \n",
    "    >>> split_dataset(Dataset(np.array([0, 0]), np.array([1, 0]), np.array([2.0, 1.0])), p_test=0)\n",
    "    (Dataset(movies=array([0, 0]), users=array([1, 0]), ratings=array([2., 1.])), Dataset(movies=array([], dtype=int64), users=array([], dtype=int64), ratings=array([], dtype=float64)))\n",
    "    \n",
    "    >>> split_dataset(Dataset(np.array([0, 0]), np.array([1, 0]), np.array([2.0, 1.0])), p_test=1)\n",
    "    (Dataset(movies=array([], dtype=int64), users=array([], dtype=int64), ratings=array([], dtype=float64)), Dataset(movies=array([0, 0]), users=array([1, 0]), ratings=array([2., 1.])))\n",
    "    \"\"\"\n",
    "    # use this generator (https://numpy.org/doc/stable/reference/random/index.html)\n",
    "    # you should use rng.uniform() once inside this function to match the automatic test case\n",
    "    rng = np.random.default_rng(seed)\n",
    "    test_indices = [i for i in range(len(dataset.movies)) if rng.uniform() <= p_test]\n",
    "    train_movies = np.delete(dataset.movies, test_indices)\n",
    "    train_ratings = np.delete(dataset.ratings, test_indices)\n",
    "    train_users = np.delete(dataset.users, test_indices)\n",
    "    train_data = Dataset(movies=train_movies, ratings=train_ratings, users=train_users)\n",
    "    \n",
    "    test_movies = dataset.movies[test_indices]\n",
    "    test_ratings = dataset.ratings[test_indices]\n",
    "    test_users = dataset.users[test_indices]\n",
    "    test_data = Dataset(movies=test_movies, ratings=test_ratings, users=test_users)\n",
    "\n",
    "    return train_data, test_data"
   ]
  },
  {
   "cell_type": "code",
   "execution_count": 11,
   "metadata": {},
   "outputs": [
    {
     "name": "stdout",
     "output_type": "stream",
     "text": [
      "✅ Your `split_dataset` passes some basic tests.\n"
     ]
    }
   ],
   "source": [
    "test(split_dataset)"
   ]
  },
  {
   "cell_type": "code",
   "execution_count": 12,
   "metadata": {
    "scrolled": true
   },
   "outputs": [
    {
     "name": "stdout",
     "output_type": "stream",
     "text": [
      "Number of training points: 88354\n",
      "Number of test points: 9599\n"
     ]
    }
   ],
   "source": [
    "train_data, test_data = split_dataset(pruned_dataset, p_test=0.1, seed=10)\n",
    "print(\"Number of training points:\", len(train_data.ratings))\n",
    "print(\"Number of test points:\", len(test_data.ratings))"
   ]
  },
  {
   "cell_type": "markdown",
   "metadata": {},
   "source": [
    "# Visualize the dataset\n",
    "So far, our data has been represented by a list of ratings. We will look at how we can interpret these ratings in a matrix (movies x users) and plot it."
   ]
  },
  {
   "cell_type": "code",
   "execution_count": 13,
   "metadata": {},
   "outputs": [],
   "source": [
    "def to_matrix(dataset, num_movies, num_users):\n",
    "    \"\"\"\n",
    "    Construct a dense matrix out of the dataset.\n",
    "    \n",
    "    Input: \n",
    "        dataset: Dataset\n",
    "    \n",
    "    Output:\n",
    "        matrix: np.array of floats: (# movies, # users) -> rating (float) or np.NaN if unavailable\n",
    "    \n",
    "    >>> to_matrix(Dataset(np.array([1, 1, 0]), np.array([0, 1, 0]), np.array([1.0, 3.0, 2.5])), 3, 2)\n",
    "    array([[2.5, nan],\n",
    "           [1. , 3. ],\n",
    "           [nan, nan]])\n",
    "    \"\"\"\n",
    "    m = np.zeros([num_movies, num_users]) * np.NaN  # We want NaNs for unavailable ratings\n",
    "    for i in range(len(dataset.ratings)):\n",
    "        m[dataset.movies[i], dataset.users[i]] = dataset.ratings[i]\n",
    "    return m"
   ]
  },
  {
   "cell_type": "code",
   "execution_count": 14,
   "metadata": {},
   "outputs": [
    {
     "name": "stdout",
     "output_type": "stream",
     "text": [
      "✅ Your `to_matrix` passes some basic tests.\n"
     ]
    }
   ],
   "source": [
    "test(to_matrix)"
   ]
  },
  {
   "cell_type": "markdown",
   "metadata": {},
   "source": [
    "Let's plot the train and test dataset "
   ]
  },
  {
   "cell_type": "code",
   "execution_count": 15,
   "metadata": {},
   "outputs": [
    {
     "data": {
      "image/png": "[encoded data removed]",
      "text/plain": [
       "<Figure size 576x216 with 4 Axes>"
      ]
     },
     "metadata": {
      "needs_background": "light"
     },
     "output_type": "display_data"
    }
   ],
   "source": [
    "fig, axes = plt.subplots(ncols=3, figsize=(8, 3))\n",
    "for ax, label, data in zip(axes, (\"All data\", \"Train data\", \"Test data\"), (dataset, train_data, test_data)):\n",
    "    im = ax.matshow(to_matrix(data, num_movies, num_users))\n",
    "    ax.set_title(label)\n",
    "    ax.set_xlabel(\"Movie\")\n",
    "    ax.set_ylabel(\"User\")\n",
    "fig.colorbar(im, label=\"Rating\");"
   ]
  },
  {
   "cell_type": "markdown",
   "metadata": {},
   "source": [
    "# Comparing predictors\n",
    "\n",
    "The goal of recommender systems is to fill in those matrices. In the remainder of this Notebook, we will implement different methods of making those predictions. Let's first develop the tools to compare them.\n",
    "\n",
    "Our prediction methods will all have the following form:"
   ]
  },
  {
   "cell_type": "code",
   "execution_count": 16,
   "metadata": {},
   "outputs": [],
   "source": [
    "class Predictor:\n",
    "    def __init__(self, train_data: Dataset):\n",
    "        # This is where you can do any preparation or 'training' if necessary.\n",
    "        pass\n",
    "    \n",
    "    def __call__(self, test_data: Dataset):\n",
    "        \"\"\"\n",
    "        Make predictions for the users and movies in the test dataset \n",
    "        (without looking at the ratings).\n",
    "        \n",
    "        Inputs:\n",
    "            test_data: Dataset (with `n` entries)\n",
    "        \n",
    "        Output:\n",
    "            predictions: np.array of floats, shape (`n`)\n",
    "        \"\"\"\n",
    "        raise NotImplementedError()"
   ]
  },
  {
   "cell_type": "markdown",
   "metadata": {},
   "source": [
    " You would use a predictor like this as follows:\n",
    " \n",
    " ```\n",
    " p = Predictor(train_data)  # this initializes the model. This may include training.\n",
    " predictions = p(test_data)  # this calls `__call__` and makes a prediction.\n",
    " ```"
   ]
  },
  {
   "cell_type": "markdown",
   "metadata": {},
   "source": [
    "As an example, a predictor that recommends the same rating everywhere would look like this:"
   ]
  },
  {
   "cell_type": "code",
   "execution_count": 17,
   "metadata": {},
   "outputs": [],
   "source": [
    "class GlobalMeanPredictor(Predictor):\n",
    "    \"\"\"\n",
    "    Always predict the mean rating from the training set\n",
    "    \n",
    "    >>> train_data = Dataset(np.array([1, 2, 3, 4]), np.array([1, 2, 3, 4]), np.array([1.0, 2.0, 2.0, 5.0]))\n",
    "    >>> test_data = Dataset(np.array([1, 2, 3, 4]), np.array([2, 1, 4, 0]), np.array([4.0, 1.0, 1.0, 2.0]))\n",
    "    >>> mean_predictor = GlobalMeanPredictor(train_data)\n",
    "    >>> mean_predictor(test_data)\n",
    "    array([2.5, 2.5, 2.5, 2.5])\n",
    "    \"\"\"\n",
    "    def __init__(self, train_data: Dataset):\n",
    "        ####################################\n",
    "        ### ___ ENTER YOUR CODE HERE ___ ###\n",
    "        ####################################\n",
    "        self.mean = np.mean(train_data.ratings)\n",
    "\n",
    "    def __call__(self, test_data: Dataset):\n",
    "        return np.full_like(test_data.ratings, fill_value=self.mean)"
   ]
  },
  {
   "cell_type": "code",
   "execution_count": 18,
   "metadata": {},
   "outputs": [
    {
     "name": "stdout",
     "output_type": "stream",
     "text": [
      "✅ Your `GlobalMeanPredictor` passes some basic tests.\n"
     ]
    }
   ],
   "source": [
    "test(GlobalMeanPredictor)"
   ]
  },
  {
   "cell_type": "markdown",
   "metadata": {},
   "source": [
    "We can evaluate the predictions using Mean Squared Error:"
   ]
  },
  {
   "cell_type": "code",
   "execution_count": 23,
   "metadata": {},
   "outputs": [],
   "source": [
    "def mse(predictions, real_ratings):\n",
    "    \"\"\"Compute the mean squared prediction error\n",
    "    \n",
    "    Inputs:\n",
    "        predictions: np.array of floats, shape (n)\n",
    "        real_ratings: np.array of floats, shape (n)\n",
    "    \n",
    "    Returns:\n",
    "        mean squared error: float\n",
    "    \n",
    "    >>> mse(np.array([1., 1.2, 2.]), np.array([2., 1., 1.5]))\n",
    "    0.43\n",
    "    >>> mse(np.array([4., 2., 1.]), np.array([4., 3., 1.]))\n",
    "    0.3333333333333333\n",
    "    \"\"\"\n",
    "    ####################################\n",
    "    ### ___ Enter your code here ___ ###\n",
    "    ####################################\n",
    "    return np.sum(np.square(predictions - real_ratings))/len(predictions)"
   ]
  },
  {
   "cell_type": "code",
   "execution_count": 24,
   "metadata": {},
   "outputs": [
    {
     "name": "stdout",
     "output_type": "stream",
     "text": [
      "✅ Your `mse` passes some basic tests.\n"
     ]
    }
   ],
   "source": [
    "test(mse)"
   ]
  },
  {
   "cell_type": "markdown",
   "metadata": {},
   "source": [
    "The error for the global mean predictor can now be computed:"
   ]
  },
  {
   "cell_type": "code",
   "execution_count": 25,
   "metadata": {},
   "outputs": [
    {
     "data": {
      "text/plain": [
       "1.2454544657178057"
      ]
     },
     "execution_count": 25,
     "metadata": {},
     "output_type": "execute_result"
    }
   ],
   "source": [
    "predict_global_mean = GlobalMeanPredictor(train_data)\n",
    "\n",
    "mse(predict_global_mean(test_data), test_data.ratings)"
   ]
  },
  {
   "cell_type": "markdown",
   "metadata": {},
   "source": [
    "It is always good to include simple baselines like this one in your machine learning experimentation. We now know that we should at least beat an MSE of `1.24` on the test set."
   ]
  },
  {
   "cell_type": "markdown",
   "metadata": {},
   "source": [
    "## Baselines "
   ]
  },
  {
   "cell_type": "markdown",
   "metadata": {},
   "source": [
    "We will now gradually make the baseline predictor more complex, by differentiating between users. The idea is that some users will give higher scores on average than others."
   ]
  },
  {
   "cell_type": "markdown",
   "metadata": {},
   "source": [
    "### User's mean prediction\n",
    "\n",
    "Here, to predict the score for a tuple `(movie, user)`, we will return the  average all movie ratings of the `user`."
   ]
  },
  {
   "cell_type": "code",
   "execution_count": 59,
   "metadata": {},
   "outputs": [],
   "source": [
    "class UserMeanPredictor(Predictor):\n",
    "    \"\"\"\n",
    "    Predict the mean rating of the user we are predicting for.\n",
    "    \n",
    "    >>> train_data = Dataset(np.array([1, 2, 3, 4]), np.array([1, 2, 2, 0]), np.array([1.0, 2.0, 2.5, 5.0]))\n",
    "    >>> test_data = Dataset(np.array([1, 2, 3, 4]), np.array([2, 1, 1, 0]), np.array([4.0, 1.0, 1.0, 2.0]))\n",
    "    >>> mean_predictor = UserMeanPredictor(train_data)\n",
    "    >>> mean_predictor(test_data)\n",
    "    array([2.25, 1.  , 1.  , 5.  ])\n",
    "    \"\"\"\n",
    "    def __init__(self, train_data: Dataset):\n",
    "        ####################################\n",
    "        ### ___ Enter your code here ___ ###\n",
    "        ####################################\n",
    "        # Hint: don't worry about making this part fast.\n",
    "        self.user_means = np.nanmean(to_matrix(train_data, np.max(train_data.movies) + 1, np.max(train_data.users) + 1), axis=0)\n",
    "\n",
    "    def __call__(self, test_data: Dataset):\n",
    "        ####################################\n",
    "        ### ___ Enter your code here ___ ###\n",
    "        ####################################\n",
    "        preds = []\n",
    "        for user in test_data.users:\n",
    "            preds.append(self.user_means[user])\n",
    "        return np.array(preds)"
   ]
  },
  {
   "cell_type": "code",
   "execution_count": 60,
   "metadata": {},
   "outputs": [
    {
     "name": "stdout",
     "output_type": "stream",
     "text": [
      "✅ Your `UserMeanPredictor` passes some basic tests.\n"
     ]
    }
   ],
   "source": [
    "test(UserMeanPredictor)"
   ]
  },
  {
   "cell_type": "markdown",
   "metadata": {},
   "source": [
    "Is this working better than predicting the global mean?"
   ]
  },
  {
   "cell_type": "code",
   "execution_count": 61,
   "metadata": {},
   "outputs": [
    {
     "data": {
      "text/plain": [
       "1.082106040332895"
      ]
     },
     "execution_count": 61,
     "metadata": {},
     "output_type": "execute_result"
    }
   ],
   "source": [
    "predict_user_mean = UserMeanPredictor(train_data)\n",
    "\n",
    "mse(predict_user_mean(test_data), test_data.ratings)"
   ]
  },
  {
   "cell_type": "markdown",
   "metadata": {},
   "source": [
    "Q: Why would always predicting the user's mean be pretty useless in practice?\n",
    "\n",
    "Q: If you want, you can improve the predictor by falling back to the global mean in case we haven't seen any ratings of a user before (or not enough of them)."
   ]
  },
  {
   "cell_type": "markdown",
   "metadata": {},
   "source": [
    "### Movie's mean prediction\n",
    "\n",
    "Here, to predict the score for a tuple `(movie, user)`, we will return the  average all movie ratings of the `movie`. \n",
    "\n",
    "Under what assumption is this a good model?"
   ]
  },
  {
   "cell_type": "code",
   "execution_count": 64,
   "metadata": {},
   "outputs": [],
   "source": [
    "class MovieMeanPredictor(Predictor):\n",
    "    \"\"\"\n",
    "    Predict the mean rating of the movie, irrespective of the user\n",
    "    \n",
    "    >>> train_data = Dataset(np.array([0, 0, 1, 1, 2]), np.array([1, 2, 3, 4, 5]), np.array([4.0, 1.0, 1.0, 2.0, 1.0]))\n",
    "    >>> test_data = Dataset(np.array([0, 1, 2, 1]), np.array([1, 2, 2, 0]), np.array([1.0, 2.0, 2.5, 5.0]))\n",
    "    >>> mean_predictor = MovieMeanPredictor(train_data)\n",
    "    >>> mean_predictor(test_data)\n",
    "    array([2.5, 1.5, 1. , 1.5])\n",
    "    \"\"\"\n",
    "    def __init__(self, train_data: Dataset):\n",
    "        ####################################\n",
    "        ### ___ Enter your code here ___ ###\n",
    "        ####################################\n",
    "        # Hint: don't worry about making this part fast.\n",
    "        self.movie_means = np.nanmean(to_matrix(train_data, np.max(train_data.movies) + 1, np.max(train_data.users) + 1), axis=1)\n",
    "\n",
    "    def __call__(self, test_data: Dataset):\n",
    "        ####################################\n",
    "        ### ___ Enter your code here ___ ###\n",
    "        ####################################\n",
    "        preds = []\n",
    "        for movie in test_data.movies:\n",
    "            preds.append(self.movie_means[movie])\n",
    "        return np.array(preds)"
   ]
  },
  {
   "cell_type": "code",
   "execution_count": 65,
   "metadata": {},
   "outputs": [
    {
     "name": "stdout",
     "output_type": "stream",
     "text": [
      "✅ Your `MovieMeanPredictor` passes some basic tests.\n"
     ]
    }
   ],
   "source": [
    "test(MovieMeanPredictor)"
   ]
  },
  {
   "cell_type": "code",
   "execution_count": 66,
   "metadata": {},
   "outputs": [
    {
     "name": "stderr",
     "output_type": "stream",
     "text": [
      "/Users/Julian/Library/Python/3.7/lib/python/site-packages/ipykernel_launcher.py:16: RuntimeWarning: Mean of empty slice\n",
      "  app.launch_new_instance()\n"
     ]
    },
    {
     "data": {
      "text/plain": [
       "1.0125633530609897"
      ]
     },
     "execution_count": 66,
     "metadata": {},
     "output_type": "execute_result"
    }
   ],
   "source": [
    "predict_movie_mean = MovieMeanPredictor(train_data)\n",
    "\n",
    "mse(predict_movie_mean(test_data), test_data.ratings)"
   ]
  },
  {
   "cell_type": "markdown",
   "metadata": {},
   "source": [
    "### Matrix Factorization\n",
    "\n",
    "With those baselines, we can implement a more realistic recommendation model that using Matrix Factorization.\n",
    "\n",
    "- To each movie $i$ in the dataset, we will assign a $d$-dimensional trainable ‘representation vector’ $\\mathbf{m}_i$.\n",
    "- To each user $j$ in the dataset, we will assign a $d$-dimensional trainable ‘representation vector’ $\\mathbf{u}_j$.\n",
    "- You can summarize those representations in two matrices: $\\mathbf{M}$ of size `(#movies, d)`, and $\\mathbf{U}$ of size `(#users, d)`.\n",
    "- The predicted score we will give for a movie $i$ and a user $j$ will be the dot product $\\mathbf{m}_i \\cdot \\mathbf{u}_j$.\n",
    "- You can simultaneously express the predicted scores for all movies and all users as a matrix of size `(#movies, #users)` as the matrix product $\\mathbf{M} \\mathbf{U}^\\top$. This interpretation gives the name to this model.\n",
    "- Given a training set $T$ with rating triples `(movie i, user j, rating r)`,\n",
    "  we will optimize the mean squared prediction error $\\frac{1}{|T|}\\sum_{(i, j, r) \\in T} (\\mathbf{m}_i \\cdot \\mathbf{u}_j - r)^2$ over the training set. "
   ]
  },
  {
   "cell_type": "code",
   "execution_count": 82,
   "metadata": {},
   "outputs": [],
   "source": [
    "class MatrixFactorizationPredictor(Predictor):\n",
    "    \"\"\"\n",
    "    Predict the rating of a user/movie pair as the dot-product \n",
    "    of representation vectors of the user and the movie.\n",
    "    \n",
    "    >>> train_data = Dataset(np.array([0, 0, 1, 1, 2]), np.array([1, 2, 3, 4, 5]), np.array([4.0, 1.0, 1.0, 2.0, 1.0]))\n",
    "    >>> test_data = Dataset(np.array([0, 1, 2, 1]), np.array([1, 2, 2, 0]), np.array([1.0, 2.0, 2.5, 5.0]))\n",
    "    >>> mean_predictor = MatrixFactorizationPredictor(train_data)\n",
    "    >>> mean_predictor(test_data)  # the factorization is not yet optimized here\n",
    "    array([ 2.62654714, -2.89866225,  0.70909287,  5.29901482])\n",
    "    \"\"\"\n",
    "    def __init__(self, train_data: Dataset, num_features=20, seed=1):\n",
    "        # Randomly initialize features for the users and the movies from N(0, 1)\n",
    "        \n",
    "        # use this generator (https://numpy.org/doc/stable/reference/random/index.html)\n",
    "        # you are expected to use rng.normal() twice in this function to match the tests, once for movies, and then once for users\n",
    "        rng = np.random.default_rng(seed)  \n",
    "        \n",
    "        num_movies = np.max(train_data.movies) + 1\n",
    "        num_users = np.max(train_data.users) + 1\n",
    "        ####################################\n",
    "        ### ___ ENTER YOUR CODE HERE ___ ###\n",
    "        ####################################\n",
    "        self.movie_features = np.zeros((num_movies, num_features))\n",
    "        self.user_features = np.zeros((num_users, num_features))\n",
    "        \n",
    "        for i in range(num_movies):\n",
    "            for j in range(num_features):\n",
    "                self.movie_features[i, j] = rng.normal()\n",
    "        for i in range(num_users):\n",
    "            for j in range(num_features):\n",
    "                self.user_features[i, j] = rng.normal()\n",
    "        # Normally, you should train the model here, but we will skip this\n",
    "        # for now, to be able to take it step-by-step.\n",
    "        \n",
    "    def __call__(self, test_data: Dataset):\n",
    "        ####################################\n",
    "        ### ___ Enter your code here ___ ###\n",
    "        ####################################\n",
    "        preds = []\n",
    "        for i in range(len(test_data.movies)):\n",
    "            preds.append(np.sum(self.movie_features[test_data.movies[i],:] * self.user_features[test_data.users[i],:]))\n",
    "        return np.array(preds)"
   ]
  },
  {
   "cell_type": "code",
   "execution_count": 83,
   "metadata": {},
   "outputs": [
    {
     "name": "stdout",
     "output_type": "stream",
     "text": [
      "✅ Your `MatrixFactorizationPredictor` passes some basic tests.\n"
     ]
    }
   ],
   "source": [
    "test(MatrixFactorizationPredictor)"
   ]
  },
  {
   "cell_type": "markdown",
   "metadata": {},
   "source": [
    "Without training, the `MatrixFactorizationPredictor` would not perform so well:"
   ]
  },
  {
   "cell_type": "code",
   "execution_count": 69,
   "metadata": {},
   "outputs": [
    {
     "data": {
      "text/plain": [
       "34.84973825903476"
      ]
     },
     "execution_count": 69,
     "metadata": {},
     "output_type": "execute_result"
    }
   ],
   "source": [
    "predict_global_mean = MatrixFactorizationPredictor(train_data)\n",
    "\n",
    "mse(predict_global_mean(test_data), test_data.ratings)"
   ]
  },
  {
   "cell_type": "markdown",
   "metadata": {},
   "source": [
    "### Optimize the factorization using SGD\n",
    "\n",
    "One way to optimize the representation vectors for movies and users, is to sample terms from the following loss function:\n",
    "\n",
    "$$\\frac{1}{|T|}\\sum_{(i, j, r) \\in T} (\\mathbf{m}_i \\cdot \\mathbf{u}_j - r)^2$$\n",
    "\n",
    "and optimize the sampled $\\mathbf{m}_i$ and $\\mathbf{u}_j$ using a stochastic gradient descent step.\n",
    "\n",
    "To improve generalization, we will add L2 regularization (also known as `weight decay`) to this model, both for the movie representations as well as for the user representations. Because those weights are unique for each movie / user, you should also sample those stochastically. If you sample a triple `(i, j, r)`, you should minimize:\n",
    "\n",
    "$$ (\\mathbf{m}_i \\cdot \\mathbf{u}_j - r)^2 + \\lambda_\\text{movie} \\left\\lVert\\mathbf{m}_i\\right\\rVert^2 + \\lambda_\\text{user} \\left\\lVert\\mathbf{u}_j\\right\\rVert^2$$\n",
    "\n",
    "You should start by computing a gradient for this term."
   ]
  },
  {
   "cell_type": "code",
   "execution_count": 88,
   "metadata": {},
   "outputs": [
    {
     "name": "stdout",
     "output_type": "stream",
     "text": [
      "88354\n",
      "Train error after epoch 1: 1.016629537857666\n",
      "Test error after epoch 1: 1.2475848138682906\n",
      "88354\n",
      "Train error after epoch 2: 0.964773115360917\n",
      "Test error after epoch 2: 1.1056875689807846\n",
      "88354\n",
      "Train error after epoch 3: 0.9836863756146063\n",
      "Test error after epoch 3: 1.0906516244178521\n",
      "88354\n",
      "Train error after epoch 4: 0.9582321527468947\n",
      "Test error after epoch 4: 1.0432114339126781\n",
      "88354\n",
      "Train error after epoch 5: 0.9496612899623846\n",
      "Test error after epoch 5: 1.0260021535034913\n",
      "88354\n",
      "Train error after epoch 6: 0.9523995653328032\n",
      "Test error after epoch 6: 1.0217308353750343\n",
      "88354\n",
      "Train error after epoch 7: 0.9452059927916077\n",
      "Test error after epoch 7: 1.0064437975692968\n",
      "88354\n",
      "Train error after epoch 8: 0.9489052302635196\n",
      "Test error after epoch 8: 1.0073038868984543\n",
      "88354\n",
      "Train error after epoch 9: 0.9453595957775589\n",
      "Test error after epoch 9: 1.0049696286651164\n",
      "88354\n",
      "Train error after epoch 10: 0.9412862857266382\n",
      "Test error after epoch 10: 0.9946411672980414\n",
      "88354\n",
      "Train error after epoch 11: 0.9311200892182103\n",
      "Test error after epoch 11: 0.9864583315346792\n",
      "88354\n",
      "Train error after epoch 12: 0.9299321096773867\n",
      "Test error after epoch 12: 0.9860105065927469\n",
      "88354\n",
      "Train error after epoch 13: 0.9304239343791122\n",
      "Test error after epoch 13: 0.9874836207097641\n",
      "88354\n",
      "Train error after epoch 14: 0.9294255846309523\n",
      "Test error after epoch 14: 0.9878315800325472\n",
      "88354\n",
      "Train error after epoch 15: 0.9244524441810474\n",
      "Test error after epoch 15: 0.977340720375739\n",
      "88354\n",
      "Train error after epoch 16: 0.9243701750616622\n",
      "Test error after epoch 16: 0.9774821001714957\n",
      "88354\n",
      "Train error after epoch 17: 0.9165844575890844\n",
      "Test error after epoch 17: 0.9738592338416008\n",
      "88354\n",
      "Train error after epoch 18: 0.9188232254305806\n",
      "Test error after epoch 18: 0.9714253983437695\n",
      "88354\n",
      "Train error after epoch 19: 0.9195334740236935\n",
      "Test error after epoch 19: 0.9733153632808013\n",
      "88354\n",
      "Train error after epoch 20: 0.9195156795666123\n",
      "Test error after epoch 20: 0.9698289625144763\n"
     ]
    }
   ],
   "source": [
    "learning_rate = 0.02\n",
    "weight_decay_movie = 0.3\n",
    "weight_decay_user = 0.3\n",
    "\n",
    "predictor = MatrixFactorizationPredictor(train_data)\n",
    "rng = np.random.default_rng(0)\n",
    "for epoch in range(20):\n",
    "    # Shuffle the dataset\n",
    "    datapoint_indices = rng.permutation(len(train_data.ratings))\n",
    "    print(len(datapoint_indices))\n",
    "    i = 0\n",
    "    for point in datapoint_indices:\n",
    "        i+= 1\n",
    "        #print(i)\n",
    "        movie = train_data.movies[point]\n",
    "        user = train_data.users[point]\n",
    "        rating = train_data.ratings[point]\n",
    "\n",
    "        # Optimize the factorizations in `predictor` using an SGD\n",
    "        # step based on the datapoint (movie, user, rating).\n",
    "        ####################################\n",
    "        ### ___ Enter your code here ___ ###\n",
    "        ####################################\n",
    "        pred_data = Dataset(movies=np.array([movie]), users=np.array([user]), ratings=np.array([rating]))\n",
    "        pred = predictor(pred_data)\n",
    "        \n",
    "        user_feats = predictor.user_features[user,:]\n",
    "        movie_feats = predictor.movie_features[movie, :]\n",
    "        \n",
    "        movie_grad = 2 * (pred - rating) * user_feats + 2 * weight_decay_movie * movie_feats\n",
    "        user_grad = 2 * (pred - rating) * movie_feats + 2 * weight_decay_user * user_feats     \n",
    "        predictor.movie_features[movie, :] = predictor.movie_features[movie, :] - learning_rate * movie_grad\n",
    "        predictor.user_features[user, :] = predictor.user_features[user,:] - learning_rate * user_grad\n",
    "    \n",
    "    learning_rate *= 0.9  # decay the learning rate after each epoch\n",
    "        \n",
    "    print(f\"Train error after epoch {epoch+1}: {mse(predictor(train_data), train_data.ratings)}\")\n",
    "    print(f\"Test error after epoch {epoch+1}: {mse(predictor(test_data), test_data.ratings)}\")"
   ]
  },
  {
   "cell_type": "markdown",
   "metadata": {},
   "source": [
    "You should expect the test error to go down below 1.0.\n",
    "\n",
    "Feel free to play with the weight decay parameters and learning rates to improve these results."
   ]
  },
  {
   "cell_type": "markdown",
   "metadata": {},
   "source": [
    "### Optimize the factoriziation using Alternating Least Squares\n",
    "\n",
    "Instead of optimizing the objective\n",
    "\n",
    "$$\\frac{1}{|T|}\\sum_{(i, j, r) \\in T} (\\mathbf{m}_i \\cdot \\mathbf{u}_j - r)^2 + \\lambda_\\text{movie} \\left\\lVert \\mathbf{M} \\right\\rVert^2_\\text{F} + \\lambda_\\text{user} \\left\\lVert \\mathbf{U} \\right\\rVert^2_\\text{F}$$\n",
    "\n",
    "using SGD by sampling terms, we can also use ‘Alternating Least Squares’. For ALS, we make the observation that, if all users representations $\\mathbf{u}_j$ are fixed, optimizing all $\\mathbf{m}_i$ is a simple least squares problem. Similarly, if the movie representations $\\mathbf{m}_i$ are all fixed, optimizing all $\\mathbf{u}_j$ is a simple least squares problem. \n",
    "\n",
    "What we will do here, is alternate between the following steps:\n",
    "- Fix the user representations, and perfectly optimize the movie representations.\n",
    "- Fix the movie representations, and perfectly optimize the user representations."
   ]
  },
  {
   "cell_type": "code",
   "execution_count": 110,
   "metadata": {},
   "outputs": [
    {
     "name": "stdout",
     "output_type": "stream",
     "text": [
      "Train error after step 1: 4.2795331256791895\n",
      "Test error after step 1: 5.102430270237264\n",
      "Train error after step 2: 1.1932472707800694\n",
      "Test error after step 2: 1.3986097947816118\n",
      "Train error after step 3: 0.9855487724785076\n",
      "Test error after step 3: 1.1496391854680805\n",
      "Train error after step 4: 0.89804499280623\n",
      "Test error after step 4: 1.0506121953125507\n",
      "Train error after step 5: 0.8574256721668729\n",
      "Test error after step 5: 1.0062031489713599\n",
      "Train error after step 6: 0.8360784488703847\n",
      "Test error after step 6: 0.9839060950439644\n",
      "Train error after step 7: 0.8234798339164903\n",
      "Test error after step 7: 0.9715267097203488\n",
      "Train error after step 8: 0.8153475190130611\n",
      "Test error after step 8: 0.9640884654623995\n",
      "Train error after step 9: 0.8097499811682943\n",
      "Test error after step 9: 0.9593523736646232\n",
      "Train error after step 10: 0.8057310417941411\n",
      "Test error after step 10: 0.9562111979413074\n",
      "Train error after step 11: 0.8027671605229696\n",
      "Test error after step 11: 0.9540680352069967\n",
      "Train error after step 12: 0.800540970754365\n",
      "Test error after step 12: 0.9525779321358809\n",
      "Train error after step 13: 0.7988452598453145\n",
      "Test error after step 13: 0.9515301057300664\n",
      "Train error after step 14: 0.7975387527977501\n",
      "Test error after step 14: 0.9507892652027737\n",
      "Train error after step 15: 0.7965224320069859\n",
      "Test error after step 15: 0.9502647938319213\n",
      "Train error after step 16: 0.7957253440727186\n",
      "Test error after step 16: 0.9498940410469681\n",
      "Train error after step 17: 0.7950956924303384\n",
      "Test error after step 17: 0.949632847570373\n",
      "Train error after step 18: 0.7945950975429754\n",
      "Test error after step 18: 0.9494497904513209\n",
      "Train error after step 19: 0.7941947734511055\n",
      "Test error after step 19: 0.9493224255224628\n",
      "Train error after step 20: 0.7938728947311223\n",
      "Test error after step 20: 0.9492347026501965\n",
      "Train error after step 21: 0.7936127436592278\n",
      "Test error after step 21: 0.9491751391824841\n",
      "Train error after step 22: 0.7934013935086196\n",
      "Test error after step 22: 0.9491355164546174\n",
      "Train error after step 23: 0.7932287673722349\n",
      "Test error after step 23: 0.9491099480895259\n",
      "Train error after step 24: 0.7930869594300225\n",
      "Test error after step 24: 0.9490942149159485\n",
      "Train error after step 25: 0.7929697384142632\n",
      "Test error after step 25: 0.9490852909944578\n",
      "Train error after step 26: 0.7928721777128421\n",
      "Test error after step 26: 0.9490810061254792\n"
     ]
    }
   ],
   "source": [
    "movie_regularization = 20\n",
    "user_regularization = 20\n",
    "max_iterations = 1000\n",
    "stop_criterion = 1e-4\n",
    "\n",
    "predictor = MatrixFactorizationPredictor(train_data)\n",
    "user_features = predictor.user_features\n",
    "movie_features = predictor.movie_features\n",
    "rng = np.random.default_rng(0)\n",
    "\n",
    "prev_train_error = None\n",
    "\n",
    "for iteration in range(max_iterations):\n",
    "\n",
    "    # Optimize the user features\n",
    "    for user in np.unique(train_data.users):\n",
    "        # Update `user_features[user]` by optimizing the regularized corresponding least squares objective\n",
    "        mask = train_data.users == user\n",
    "        user_movies = train_data.movies[mask]\n",
    "        user_ratings = train_data.ratings[mask]\n",
    "        user_movie_features = movie_features[user_movies]\n",
    "        left = (user_movie_features.T @ user_movie_features) + movie_regularization * np.identity(user_movie_features.shape[1])\n",
    "        right = user_movie_features.T @ user_ratings\n",
    "        new_user_feats = np.linalg.solve(left, right)\n",
    "        user_features[user] = new_user_feats\n",
    "        #print(new_user_feats)\n",
    "    \n",
    "    # Optimize the movie features using least squares\n",
    "    for movie in np.unique(train_data.movies):\n",
    "        # Update `movie_features[movie]` by optimizing the regularized corresponding least squares objective\n",
    "        mask = train_data.movies == movie\n",
    "        movie_users = train_data.users[mask]\n",
    "        user_ratings = train_data.ratings[mask]\n",
    "        movie_user_features = user_features[movie_users]\n",
    "        left = (movie_user_features.T @ movie_user_features) + user_regularization * np.identity(movie_user_features.shape[1])\n",
    "        right = movie_user_features.T @ user_ratings\n",
    "        new_movie_feats = np.linalg.solve(left, right)\n",
    "        #print(new_movie_feats)\n",
    "        movie_features[movie] = new_movie_feats \n",
    "        \n",
    "    train_error = mse(predictor(train_data), train_data.ratings)\n",
    "    print(f\"Train error after step {iteration+1}: {train_error}\")\n",
    "    print(f\"Test error after step {iteration+1}: {mse(predictor(test_data), test_data.ratings)}\")\n",
    "    \n",
    "    # Stop if the training error is not going down more than 'stop_criterion'\n",
    "    if prev_train_error is not None and prev_train_error - train_error <= stop_criterion:\n",
    "        break\n",
    "    prev_train_error = train_error"
   ]
  },
  {
   "cell_type": "markdown",
   "metadata": {},
   "source": [
    "You should find that this beats the simple baselines.\n",
    "Using default SGD parameters, the alternating least squares solution here outperforms it, but by tuning SGD carefully, you should be able to get the same quality."
   ]
  }
 ],
 "metadata": {
  "anaconda-cloud": {},
  "kernelspec": {
   "display_name": "Python 3",
   "language": "python",
   "name": "python3"
  },
  "language_info": {
   "codemirror_mode": {
    "name": "ipython",
    "version": 3
   },
   "file_extension": ".py",
   "mimetype": "text/x-python",
   "name": "python",
   "nbconvert_exporter": "python",
   "pygments_lexer": "ipython3",
   "version": "3.7.1"
  }
 },
 "nbformat": 4,
 "nbformat_minor": 4
}
