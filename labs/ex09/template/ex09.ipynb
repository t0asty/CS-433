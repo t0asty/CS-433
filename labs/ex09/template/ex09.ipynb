{
 "cells": [
  {
   "cell_type": "code",
   "execution_count": null,
   "metadata": {
    "jupyter": {
     "outputs_hidden": true
    }
   },
   "outputs": [],
   "source": [
    "# Useful starting lines\n",
    "%matplotlib inline\n",
    "\n",
    "import numpy as np\n",
    "import scipy\n",
    "import scipy.io\n",
    "import scipy.sparse as sp\n",
    "import matplotlib.pyplot as plt\n",
    "%load_ext autoreload\n",
    "%autoreload 2"
   ]
  },
  {
   "cell_type": "markdown",
   "metadata": {},
   "source": [
    "Implement the sigmoid activation function."
   ]
  },
  {
   "cell_type": "code",
   "execution_count": null,
   "metadata": {
    "jupyter": {
     "outputs_hidden": false
    }
   },
   "outputs": [],
   "source": [
    "def sigmoid(t):\n",
    "    \"\"\"Apply sigmoid function on t.\n",
    "\n",
    "    Args:\n",
    "        t: scalar or numpy array\n",
    "\n",
    "    Returns:\n",
    "        scalar or numpy array\n",
    "\n",
    "    >>> sigmoid(np.array([0.1]))\n",
    "    array([0.52497919])\n",
    "    >>> sigmoid(np.array([0.1, 0.1]))\n",
    "    array([0.52497919, 0.52497919])\n",
    "    \"\"\"\n",
    "    # ***************************************************\n",
    "    # TODO: INSERT YOUR CODE HERE\n",
    "    # ***************************************************\n",
    "    raise NotImplementedError\n",
    "    \n",
    "def grad_sigmoid(t):\n",
    "    \"\"\"Return the gradient of sigmoid on t.\n",
    "    \n",
    "    Args:\n",
    "        t: scalar or numpy array\n",
    "        \n",
    "    Returns:\n",
    "        scalar or numpy array\n",
    "        \n",
    "    >>> grad_sigmoid(np.array([0.1]))\n",
    "    array([0.24937604])\n",
    "    >>> grad_sigmoid(np.array([0.1, 0.1]))\n",
    "    array([0.24937604, 0.24937604])\n",
    "    \"\"\"\n",
    "    # ***************************************************\n",
    "    # TODO: INSERT YOUR CODE HERE\n",
    "    # ***************************************************\n",
    "    raise NotImplementedError"
   ]
  },
  {
   "cell_type": "markdown",
   "metadata": {},
   "source": [
    "Note that you are working on a three-layer neural network with one input layer of size $D=4$, $L=1$ hidden layer with size $K=5$, and one output layer with size 1.\n",
    "\n",
    "Initialize the data."
   ]
  },
  {
   "cell_type": "code",
   "execution_count": null,
   "metadata": {
    "jupyter": {
     "outputs_hidden": false
    }
   },
   "outputs": [],
   "source": [
    "x = np.array([0.01, 0.02, 0.03, 0.04])\n",
    "W = {\n",
    "    \"w_1\": np.ones((4, 5)),\n",
    "    \"w_2\": np.ones(5)\n",
    "}\n",
    "y = 1"
   ]
  },
  {
   "cell_type": "markdown",
   "metadata": {},
   "source": [
    "# Problem 1: Feed-forward in neural network\n",
    "\n",
    "Implement the neural network described by Equation 1 of the exercise sheet."
   ]
  },
  {
   "cell_type": "code",
   "execution_count": null,
   "metadata": {
    "jupyter": {
     "outputs_hidden": false
    }
   },
   "outputs": [],
   "source": [
    "def simple_feed_forward(x, W):\n",
    "    \"\"\"Do feed-forward propagation.\n",
    "    \n",
    "    Args:\n",
    "        x: numpy array of shape (D, )\n",
    "        W: a dictionary of numpy array, with two elements, w_1 and w_2.\n",
    "            w_1: shape=(D, K)\n",
    "            w_2: shape=(K, )\n",
    "        \n",
    "    Returns:\n",
    "        z1: a numpy array, generated from the hidden layer (before the sigmoid function) \n",
    "        z2: scalar number, generated from the output layer (before the sigmoid function)\n",
    "        y_hat: a scalar (after the sigmoid function)\n",
    "        \n",
    "    >>> np.array([0.01, 0.02, 0.03, 0.04])\n",
    "    >>> W = {\n",
    "        \"w_1\": np.ones((4, 5)),\n",
    "        \"w_2\": np.ones(5)\n",
    "    }\n",
    "    >>> z1, z2, y_hat = simple_feed_forward(x, W)\n",
    "    >>> z1\n",
    "    array([0.1, 0.1, 0.1, 0.1, 0.1])\n",
    "    >>> z2\n",
    "    2.6248959373947\n",
    "    >>> y_hat\n",
    "    0.932446754272157\n",
    "    \"\"\"\n",
    "    # ***************************************************\n",
    "    # TODO: INSERT YOUR CODE HERE\n",
    "    # ***************************************************\n",
    "    raise NotImplementedError\n",
    "    return y_hat\n",
    "\n",
    "try:\n",
    "    expected = 0.93244675427215695\n",
    "    yours = simple_feed_forward(x, W)\n",
    "    assert np.sum((yours - expected) ** 2) < 1e-15\n",
    "    print(\"Your implementation is correct!\")\n",
    "except:\n",
    "    print(\"Your implementation is not correct.\")"
   ]
  },
  {
   "cell_type": "markdown",
   "metadata": {},
   "source": [
    "# Problem 2: Backpropagation in neural network\n",
    "\n",
    "Implement your derivation of backpropagation. \n",
    "\n",
    "*Hint*: You might want to slightly change `simple_feed_forward`."
   ]
  },
  {
   "cell_type": "code",
   "execution_count": null,
   "metadata": {
    "jupyter": {
     "outputs_hidden": false
    }
   },
   "outputs": [],
   "source": [
    "def simple_backpropagation(y, x, W):\n",
    "    \"\"\"Do backpropagation and get delta_W.\n",
    "    \n",
    "    Args:\n",
    "        y: scalar number\n",
    "        x: numpy array of shape (D, )\n",
    "        W: a dictionary of numpy array, with two elements, w_1 and w_2.\n",
    "            w_1: shape=(D, K)\n",
    "            w_2: shape=(K, )\n",
    "        \n",
    "    Returns:\n",
    "        grad_W: a dictionary of numpy array. It corresponds to the gradient of weights in W.\n",
    "        \n",
    "        \n",
    "    >>> y = 1\n",
    "    >>> np.array([0.01, 0.02, 0.03, 0.04])\n",
    "    >>> W = {\n",
    "        \"w_1\": np.ones((4, 5)),\n",
    "        \"w_2\": np.ones(5)\n",
    "    }\n",
    "    >>> grad_W = simple_backpropagation(y, x, W)\n",
    "    \"\"\"\n",
    "    # ***************************************************\n",
    "    # TODO: INSERT YOUR CODE HERE\n",
    "    # ***************************************************\n",
    "    raise NotImplementedError    \n",
    "    return {\n",
    "        \"w_1\": delta_w_1,\n",
    "        \"w_2\": delta_w_2\n",
    "    }\n",
    "    \n",
    "try:\n",
    "    expected = {\n",
    "        'w_1': np.array([\n",
    "            [ -1.06113639e-05,  -1.06113639e-05,  -1.06113639e-05, -1.06113639e-05,  -1.06113639e-05],\n",
    "            [ -2.12227277e-05,  -2.12227277e-05,  -2.12227277e-05, -2.12227277e-05,  -2.12227277e-05],\n",
    "            [ -3.18340916e-05,  -3.18340916e-05,  -3.18340916e-05, -3.18340916e-05,  -3.18340916e-05],\n",
    "            [ -4.24454555e-05,  -4.24454555e-05,  -4.24454555e-05, -4.24454555e-05,  -4.24454555e-05]]),\n",
    "        'w_2': np.array(\n",
    "            [-0.00223387, -0.00223387, -0.00223387, -0.00223387, -0.00223387])\n",
    "    }\n",
    "    yours = simple_backpropagation(y, x, W)    \n",
    "    assert np.sum(\n",
    "        [np.sum((yours[key] - expected[key]) ** 2)\n",
    "         for key in expected.keys()]) < 1e-15\n",
    "    print(\"Your implementation is correct!\")\n",
    "except:\n",
    "    print(\"Your implementation is not correct!\")"
   ]
  },
  {
   "cell_type": "code",
   "execution_count": null,
   "metadata": {},
   "outputs": [],
   "source": []
  }
 ],
 "metadata": {
  "anaconda-cloud": {},
  "kernelspec": {
   "display_name": "Python 3",
   "language": "python",
   "name": "python3"
  },
  "language_info": {
   "codemirror_mode": {
    "name": "ipython",
    "version": 3
   },
   "file_extension": ".py",
   "mimetype": "text/x-python",
   "name": "python",
   "nbconvert_exporter": "python",
   "pygments_lexer": "ipython3",
   "version": "3.6.3"
  }
 },
 "nbformat": 4,
 "nbformat_minor": 4
}
