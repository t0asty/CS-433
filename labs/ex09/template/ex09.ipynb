{
 "cells": [
  {
   "cell_type": "code",
   "execution_count": 1,
   "metadata": {
    "jupyter": {
     "outputs_hidden": true
    }
   },
   "outputs": [
    {
     "name": "stderr",
     "output_type": "stream",
     "text": [
      "In /Library/Frameworks/Python.framework/Versions/3.7/lib/python3.7/site-packages/matplotlib/mpl-data/stylelib/_classic_test.mplstyle: \n",
      "The text.latex.preview rcparam was deprecated in Matplotlib 3.3 and will be removed two minor releases later.\n",
      "In /Library/Frameworks/Python.framework/Versions/3.7/lib/python3.7/site-packages/matplotlib/mpl-data/stylelib/_classic_test.mplstyle: \n",
      "The mathtext.fallback_to_cm rcparam was deprecated in Matplotlib 3.3 and will be removed two minor releases later.\n",
      "In /Library/Frameworks/Python.framework/Versions/3.7/lib/python3.7/site-packages/matplotlib/mpl-data/stylelib/_classic_test.mplstyle: Support for setting the 'mathtext.fallback_to_cm' rcParam is deprecated since 3.3 and will be removed two minor releases later; use 'mathtext.fallback : 'cm' instead.\n",
      "In /Library/Frameworks/Python.framework/Versions/3.7/lib/python3.7/site-packages/matplotlib/mpl-data/stylelib/_classic_test.mplstyle: \n",
      "The validate_bool_maybe_none function was deprecated in Matplotlib 3.3 and will be removed two minor releases later.\n",
      "In /Library/Frameworks/Python.framework/Versions/3.7/lib/python3.7/site-packages/matplotlib/mpl-data/stylelib/_classic_test.mplstyle: \n",
      "The savefig.jpeg_quality rcparam was deprecated in Matplotlib 3.3 and will be removed two minor releases later.\n",
      "In /Library/Frameworks/Python.framework/Versions/3.7/lib/python3.7/site-packages/matplotlib/mpl-data/stylelib/_classic_test.mplstyle: \n",
      "The keymap.all_axes rcparam was deprecated in Matplotlib 3.3 and will be removed two minor releases later.\n",
      "In /Library/Frameworks/Python.framework/Versions/3.7/lib/python3.7/site-packages/matplotlib/mpl-data/stylelib/_classic_test.mplstyle: \n",
      "The animation.avconv_path rcparam was deprecated in Matplotlib 3.3 and will be removed two minor releases later.\n",
      "In /Library/Frameworks/Python.framework/Versions/3.7/lib/python3.7/site-packages/matplotlib/mpl-data/stylelib/_classic_test.mplstyle: \n",
      "The animation.avconv_args rcparam was deprecated in Matplotlib 3.3 and will be removed two minor releases later.\n"
     ]
    }
   ],
   "source": [
    "# Useful starting lines\n",
    "%matplotlib inline\n",
    "\n",
    "import numpy as np\n",
    "import scipy\n",
    "import scipy.io\n",
    "import scipy.sparse as sp\n",
    "import matplotlib.pyplot as plt\n",
    "%load_ext autoreload\n",
    "%autoreload 2"
   ]
  },
  {
   "cell_type": "markdown",
   "metadata": {},
   "source": [
    "Implement the sigmoid activation function."
   ]
  },
  {
   "cell_type": "code",
   "execution_count": 3,
   "metadata": {
    "jupyter": {
     "outputs_hidden": false
    }
   },
   "outputs": [],
   "source": [
    "def sigmoid(t):\n",
    "    \"\"\"Apply sigmoid function on t.\n",
    "\n",
    "    Args:\n",
    "        t: scalar or numpy array\n",
    "\n",
    "    Returns:\n",
    "        scalar or numpy array\n",
    "\n",
    "    >>> sigmoid(np.array([0.1]))\n",
    "    array([0.52497919])\n",
    "    >>> sigmoid(np.array([0.1, 0.1]))\n",
    "    array([0.52497919, 0.52497919])\n",
    "    \"\"\"\n",
    "    return 1/(1 + np.exp(-t))\n",
    "    \n",
    "def grad_sigmoid(t):\n",
    "    \"\"\"Return the gradient of sigmoid on t.\n",
    "    \n",
    "    Args:\n",
    "        t: scalar or numpy array\n",
    "        \n",
    "    Returns:\n",
    "        scalar or numpy array\n",
    "        \n",
    "    >>> grad_sigmoid(np.array([0.1]))\n",
    "    array([0.24937604])\n",
    "    >>> grad_sigmoid(np.array([0.1, 0.1]))\n",
    "    array([0.24937604, 0.24937604])\n",
    "    \"\"\"\n",
    "    e_mint = np.exp(-t)\n",
    "    \n",
    "    return e_mint/(1 + e_mint)**2"
   ]
  },
  {
   "cell_type": "code",
   "execution_count": 4,
   "metadata": {},
   "outputs": [
    {
     "data": {
      "text/plain": [
       "array([0.52497919])"
      ]
     },
     "execution_count": 4,
     "metadata": {},
     "output_type": "execute_result"
    }
   ],
   "source": [
    "sigmoid(np.array([0.1]))"
   ]
  },
  {
   "cell_type": "code",
   "execution_count": 5,
   "metadata": {},
   "outputs": [
    {
     "data": {
      "text/plain": [
       "array([0.52497919, 0.52497919])"
      ]
     },
     "execution_count": 5,
     "metadata": {},
     "output_type": "execute_result"
    }
   ],
   "source": [
    "sigmoid(np.array([0.1, 0.1]))"
   ]
  },
  {
   "cell_type": "code",
   "execution_count": 6,
   "metadata": {},
   "outputs": [
    {
     "data": {
      "text/plain": [
       "array([0.24937604])"
      ]
     },
     "execution_count": 6,
     "metadata": {},
     "output_type": "execute_result"
    }
   ],
   "source": [
    "grad_sigmoid(np.array([0.1]))"
   ]
  },
  {
   "cell_type": "code",
   "execution_count": 8,
   "metadata": {},
   "outputs": [
    {
     "data": {
      "text/plain": [
       "array([0.24937604, 0.24937604])"
      ]
     },
     "execution_count": 8,
     "metadata": {},
     "output_type": "execute_result"
    }
   ],
   "source": [
    "grad_sigmoid(np.array([0.1, 0.1]))"
   ]
  },
  {
   "cell_type": "markdown",
   "metadata": {},
   "source": [
    "Note that you are working on a three-layer neural network with one input layer of size $D=4$, $L=1$ hidden layer with size $K=5$, and one output layer with size 1.\n",
    "\n",
    "Initialize the data."
   ]
  },
  {
   "cell_type": "code",
   "execution_count": 9,
   "metadata": {
    "jupyter": {
     "outputs_hidden": false
    }
   },
   "outputs": [],
   "source": [
    "x = np.array([0.01, 0.02, 0.03, 0.04])\n",
    "W = {\n",
    "    \"w_1\": np.ones((4, 5)),\n",
    "    \"w_2\": np.ones(5)\n",
    "}\n",
    "y = 1"
   ]
  },
  {
   "cell_type": "markdown",
   "metadata": {},
   "source": [
    "# Problem 1: Feed-forward in neural network\n",
    "\n",
    "Implement the neural network described by Equation 1 of the exercise sheet."
   ]
  },
  {
   "cell_type": "code",
   "execution_count": 33,
   "metadata": {
    "jupyter": {
     "outputs_hidden": false
    }
   },
   "outputs": [
    {
     "name": "stdout",
     "output_type": "stream",
     "text": [
      "Your implementation is correct!\n"
     ]
    }
   ],
   "source": [
    "def simple_feed_forward(x, W):\n",
    "    \"\"\"Do feed-forward propagation.\n",
    "    \n",
    "    Args:\n",
    "        x: numpy array of shape (D, )\n",
    "        W: a dictionary of numpy array, with two elements, w_1 and w_2.\n",
    "            w_1: shape=(D, K)\n",
    "            w_2: shape=(K, )\n",
    "        \n",
    "    Returns:\n",
    "        z1: a numpy array, generated from the hidden layer (before the sigmoid function) \n",
    "        z2: scalar number, generated from the output layer (before the sigmoid function)\n",
    "        y_hat: a scalar (after the sigmoid function)\n",
    "        \n",
    "    >>> np.array([0.01, 0.02, 0.03, 0.04])\n",
    "    >>> W = {\n",
    "        \"w_1\": np.ones((4, 5)),\n",
    "        \"w_2\": np.ones(5)\n",
    "    }\n",
    "    >>> z1, z2, y_hat = simple_feed_forward(x, W)\n",
    "    >>> z1\n",
    "    array([0.1, 0.1, 0.1, 0.1, 0.1])\n",
    "    >>> z2\n",
    "    2.6248959373947\n",
    "    >>> y_hat\n",
    "    0.932446754272157\n",
    "    \"\"\"\n",
    "    z1 = W['w_1'].T.dot(x)\n",
    "    x1 = sigmoid(z1)\n",
    "    z2 = np.sum(W['w_2']*x1)\n",
    "    y_hat = sigmoid(z2)\n",
    "    return z1, z2, y_hat\n",
    "\n",
    "expected = 0.93244675427215695\n",
    "z1, z2, yours = simple_feed_forward(x, W)\n",
    "try:\n",
    "    assert np.sum((yours - expected) ** 2) < 1e-15\n",
    "    print(\"Your implementation is correct!\")\n",
    "except:\n",
    "    print(\"Your implementation is not correct.\")"
   ]
  },
  {
   "cell_type": "markdown",
   "metadata": {},
   "source": [
    "# Problem 2: Backpropagation in neural network\n",
    "\n",
    "Implement your derivation of backpropagation. \n",
    "\n",
    "*Hint*: You might want to slightly change `simple_feed_forward`."
   ]
  },
  {
   "cell_type": "code",
   "execution_count": 76,
   "metadata": {
    "jupyter": {
     "outputs_hidden": false
    }
   },
   "outputs": [
    {
     "name": "stdout",
     "output_type": "stream",
     "text": [
      "{'w_1': array([[-1.06113639e-05, -1.06113639e-05, -1.06113639e-05,\n",
      "        -1.06113639e-05, -1.06113639e-05],\n",
      "       [-2.12227277e-05, -2.12227277e-05, -2.12227277e-05,\n",
      "        -2.12227277e-05, -2.12227277e-05],\n",
      "       [-3.18340916e-05, -3.18340916e-05, -3.18340916e-05,\n",
      "        -3.18340916e-05, -3.18340916e-05],\n",
      "       [-4.24454555e-05, -4.24454555e-05, -4.24454555e-05,\n",
      "        -4.24454555e-05, -4.24454555e-05]]), 'w_2': array([-0.00223387, -0.00223387, -0.00223387, -0.00223387, -0.00223387])}\n",
      "Your implementation is correct!\n"
     ]
    }
   ],
   "source": [
    "def simple_backpropagation(y, x, W):\n",
    "    \"\"\"Do backpropagation and get delta_W.\n",
    "    \n",
    "    Args:\n",
    "        y: scalar number\n",
    "        x: numpy array of shape (D, )\n",
    "        W: a dictionary of numpy array, with two elements, w_1 and w_2.\n",
    "            w_1: shape=(D, K)\n",
    "            w_2: shape=(K, )\n",
    "        \n",
    "    Returns:\n",
    "        grad_W: a dictionary of numpy array. It corresponds to the gradient of weights in W.\n",
    "        \n",
    "        \n",
    "    >>> y = 1\n",
    "    >>> np.array([0.01, 0.02, 0.03, 0.04])\n",
    "    >>> W = {\n",
    "        \"w_1\": np.ones((4, 5)),\n",
    "        \"w_2\": np.ones(5)\n",
    "    }\n",
    "    >>> grad_W = simple_backpropagation(y, x, W)\n",
    "    \"\"\"\n",
    "    z1, z2, y_hat = simple_feed_forward(x, W)\n",
    "    delta_2 = (y_hat - y) * grad_sigmoid(z2)\n",
    "    delta_w_2 = delta_2 * sigmoid(z1)\n",
    "    delta_1 = W['w_2'] * delta_2 * grad_sigmoid(z1) # shape (5,)\n",
    "    x = np.reshape(x, (len(x),1))\n",
    "    delta_w_1 = x.dot(np.reshape(delta_1, (1, len(delta_1))))\n",
    "\n",
    "    return {\n",
    "        \"w_1\": delta_w_1,\n",
    "        \"w_2\": delta_w_2\n",
    "    }\n",
    "  \n",
    "yours = simple_backpropagation(y, x, W)  \n",
    "print(yours)\n",
    "try:\n",
    "    expected = {\n",
    "        'w_1': np.array([\n",
    "            [ -1.06113639e-05,  -1.06113639e-05,  -1.06113639e-05, -1.06113639e-05,  -1.06113639e-05],\n",
    "            [ -2.12227277e-05,  -2.12227277e-05,  -2.12227277e-05, -2.12227277e-05,  -2.12227277e-05],\n",
    "            [ -3.18340916e-05,  -3.18340916e-05,  -3.18340916e-05, -3.18340916e-05,  -3.18340916e-05],\n",
    "            [ -4.24454555e-05,  -4.24454555e-05,  -4.24454555e-05, -4.24454555e-05,  -4.24454555e-05]]),\n",
    "        'w_2': np.array(\n",
    "            [-0.00223387, -0.00223387, -0.00223387, -0.00223387, -0.00223387])\n",
    "    }\n",
    "    assert np.sum(\n",
    "        [np.sum((yours[key] - expected[key]) ** 2)\n",
    "         for key in expected.keys()]) < 1e-15\n",
    "    print(\"Your implementation is correct!\")\n",
    "except:\n",
    "    print(\"Your implementation is not correct!\")"
   ]
  },
  {
   "cell_type": "code",
   "execution_count": null,
   "metadata": {},
   "outputs": [],
   "source": []
  }
 ],
 "metadata": {
  "anaconda-cloud": {},
  "kernelspec": {
   "display_name": "Python 3",
   "language": "python",
   "name": "python3"
  },
  "language_info": {
   "codemirror_mode": {
    "name": "ipython",
    "version": 3
   },
   "file_extension": ".py",
   "mimetype": "text/x-python",
   "name": "python",
   "nbconvert_exporter": "python",
   "pygments_lexer": "ipython3",
   "version": "3.7.1"
  }
 },
 "nbformat": 4,
 "nbformat_minor": 4
}
